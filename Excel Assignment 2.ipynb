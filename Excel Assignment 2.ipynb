{
 "cells": [
  {
   "cell_type": "markdown",
   "id": "8fda7a78",
   "metadata": {},
   "source": [
    "Table  \n",
    "\n",
    "# Order no.\tDate\tDriver's name\tItem\t        Number of items\tTransport\tDestination\n",
    "100001\t02-01-2013\tJohn May\t    TV\t            25\t            truck 4\t    Boston\n",
    "100002\t02-01-2013\tPeter White\t    washing machine\t30\t            truck 3\t    NY\n",
    "100003\t02-02-2013\tCarl Nowak\t    washing machine\t15\t            truck 3\t    Philadelphia\n",
    "100004\t02-03-2013\tPeter White\t    TV\t            32\t            truck 4\t    NY\n",
    "100005\t02-03-2013\tGeorge Ramsay\trefrigerator\t25\t            truck 3\t    Boston\n",
    "100006\t02-03-2013\tCarl Nowak\t    washing machine\t18\t            truck 1\t    Baltimore\n",
    "100007\t02-03-2013\tJohn May\t    refrigerator\t15\t            truck 2  \tPhiladelphia\n",
    "100008\t02-04-2013\tCarl Nowak\t    refrigerator\t25\t            truck 3 \tBaltimore\n",
    "100009\t02-04-2013\tPeter White\t    TV\t            30\t            truck 1 \tPittsburgh\n",
    "100010\t02-04-2013\tGeorge Ramsay\trefrigerator\t15           \ttruck 2 \tNY\n",
    "100011\t02-04-2013\tMertl Pavel\t    microwave    \t25           \ttruck 3 \tPhiladelphia\n",
    "100012\t02-04-2013\tJohn May\t    washing machine\t14           \ttruck 4 \tNY\n",
    "100013\t02-05-2013\tJohn May\t    washing machine\t25\t            airplane\tBaltimore\n",
    "100014\t02-05-2013\tCarl Nowak\t    TV\t            30\t            truck 4 \tPhiladelphia\n",
    "100015\t02-05-2013\tGeorge Ramsay\tmicrowave    \t15\t            truck 3 \tBoston\n",
    "100016\t02-05-2013\tPeter White\t    TV\t            15\t            truck 1 \tPittsburgh\n",
    "100017\t02-06-2013\tJohn May\t    microwave   \t25\t            truck 1 \tNY\n",
    "100018\t02-07-2013\tJohn May\t    TV\t            30\t            truck 4 \tPhiladelphia\n",
    "100019\t02-08-2013\tGeorge Ramsay\twashing machine\t13\t            truck 3 \tBaltimore\n",
    "100020\t02-08-2013\tPeter White\t    refrigerator\t25\t            truck 2 \tPhiladelphia\n",
    "100021\t02-08-2013\tCarl Nowak\t    microwave\t    30           \ttruck 1 \tPittsburgh\n",
    "100022\t02-08-2013\tPeter White  \twashing machine\t15\t            airplane\tNY\n",
    "100023\t02-08-2013\tJohn May\t    microwave\t    25\t            truck 4 \tBoston\n",
    "100024\t02-09-2013\tGeorge Ramsay\twashing machine\t34\t            truck 3 \tBaltimore"
   ]
  },
  {
   "cell_type": "markdown",
   "id": "09087b16",
   "metadata": {},
   "source": [
    "\n"
   ]
  },
  {
   "cell_type": "markdown",
   "id": "d694f41f",
   "metadata": {},
   "source": [
    "1.countif / countifs\n",
    "\n",
    "number of orders in Boston :\t4\n",
    "number of microwave orders :\t5\n",
    "number of journeys with truck 3:\t8\n",
    "number of Peter White journeys:\t6\n",
    "how many times are no. of items less than 20:\t9"
   ]
  },
  {
   "cell_type": "markdown",
   "id": "43d260ac",
   "metadata": {},
   "source": [
    "2.sumif / sumifs\n",
    "\n",
    "sum of refrigerator items:\t105\n",
    "sum of washing machine items:\t164\n",
    "sum of items transported by truck 4:\t156\n",
    "sum of items transported by trucks:\t511"
   ]
  },
  {
   "cell_type": "markdown",
   "id": "6dd68604",
   "metadata": {},
   "source": [
    "3.countifs\n",
    "\n",
    "number of microvawe orders in Boston :\t2\n",
    "number of Peter White journeys with truck 1:\t2\n",
    "number of orders in Boston after 2/3/2013:\t2\n",
    "number of orders between 2/3/2013 and 2/6/2013:\t9"
   ]
  },
  {
   "cell_type": "markdown",
   "id": "ddc65af1",
   "metadata": {},
   "source": []
  },
  {
   "cell_type": "markdown",
   "id": "4077fc02",
   "metadata": {},
   "source": [
    "4.sumifs\n",
    "\n",
    "sum of microwaves transported to NY:\t25\n",
    "sum of items transported to Pittsburgh by truck 1:\t75\n",
    "sum of items ordered between 2/3/2013 and 2/6/2013:\t194\n",
    "\t\n",
    "\t\n",
    "sum of items transported to NY, Baltimore and Philadelphia:\t386"
   ]
  },
  {
   "cell_type": "raw",
   "id": "fe8cadb7",
   "metadata": {},
   "source": []
  },
  {
   "cell_type": "raw",
   "id": "3906cfa7",
   "metadata": {},
   "source": []
  },
  {
   "cell_type": "raw",
   "id": "2849e501",
   "metadata": {},
   "source": []
  }
 ],
 "metadata": {
  "kernelspec": {
   "display_name": "Python 3 (ipykernel)",
   "language": "python",
   "name": "python3"
  },
  "language_info": {
   "codemirror_mode": {
    "name": "ipython",
    "version": 3
   },
   "file_extension": ".py",
   "mimetype": "text/x-python",
   "name": "python",
   "nbconvert_exporter": "python",
   "pygments_lexer": "ipython3",
   "version": "3.9.13"
  }
 },
 "nbformat": 4,
 "nbformat_minor": 5
}
