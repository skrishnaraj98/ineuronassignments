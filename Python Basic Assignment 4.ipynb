{
 "cells": [
  {
   "cell_type": "markdown",
   "id": "9634e084",
   "metadata": {},
   "source": [
    "1. What exactly is []?\n",
    "\n",
    "[] represents an empty list. \n",
    "\n",
    "2. In a list of values stored in a variable called spam, how would you assign the value 'hello' as the third value? (Assume [2, 4, 6, 8, 10] are in spam.)\n",
    "\n",
    "spam = [2,4,6,8,10]\n",
    "To insert \"hello\" at 3rd index which means index value = 2.\n",
    "\n",
    "spam.insert(2,\"hello) would insert \"hello\" at the desired place. \n",
    "\n",
    "Now updated spam list would be = [2,4,\"hello\",6,8,10] \n",
    "\n",
    "\n",
    "Let's pretend the spam includes the list ['a', 'b', 'c', 'd'] for the next three queries.\n",
    "\n",
    "\n",
    "3. What is the value of spam[int(int('3' * 2) / 11)]?\n",
    "\n",
    "spam[int(int(\"3\"*2)/ 11)] \n",
    "\n",
    "= spam[3] = \"d\"\n",
    "\n",
    "4. What is the value of spam[-1]?\n",
    "\n",
    "spam[-1] = \"d\"\n",
    "\n",
    "5. What is the value of spam[:2]?\n",
    "\n",
    "spam[:2] = [\"a\",\"b\"]\n",
    "\n",
    "\n",
    "\n",
    "Let's pretend bacon has the list [3.14, 'cat,' 11, 'cat,' True] for the next three questions.\n",
    "\n",
    "\n",
    "6. What is the value of bacon.index('cat')?\n",
    "\n",
    "bacon = [3.14, \"cat\", 11, \"cat\", True]\n",
    "bacon.index(\"cat\") = 1\n",
    "\n",
    "7. How does bacon.append(99) change the look of the list value in bacon?\n",
    "\n",
    "bacon.append(99) \n",
    "bacon = [3.14, \"cat\", 11, \"cat\", True, 99]\n",
    "\n",
    "8. How does bacon.remove('cat') change the look of the list in bacon?\n",
    "\n",
    "bacon.remove(\"cat\")\n",
    "bacon = [3.14, 11, \"cat\", True, 99]\n",
    "\n",
    "9. What are the list concatenation and list replication operators?\n",
    "\n",
    "List concatenation operator = +\n",
    "List replication operator = *\n",
    "\n",
    "10. What is difference between the list methods append() and insert()?\n",
    "\n",
    "Append() methods attach an element at the last of the list. And the insert() method takes in two \n",
    "parameters as arguments, the index position and what value to insert. The insert() method helps\n",
    "you insert a particular value at the specific position you want the value to be in. \n",
    "\n",
    "11. What are the two methods for removing items from a list?\n",
    "\n",
    "Two methods \"remove\" and \"pop\" helps in removing items from a list. \n",
    "\n",
    "l=[\"Hello\", \"World\", \"abc\"]\n",
    "l.remove(\"World\")\n",
    "\n",
    "updated l=[\"Hello\",\"abc\"]\n",
    "\n",
    "l=[\"Hello\", \"World\", \"abc\"]\n",
    "l.pop(0)\n",
    "\n",
    "updated l=[\"World\",\"abc\"]\n",
    "\n",
    "12. Describe how list values and string values are identical.\n",
    "\n",
    "The list values and string values are not identical but they have similarities on a broader scale. \n",
    "Like both list and string values can be concatenated, sliced and indexed, and both of them can be iterated and many others. \n",
    "\n",
    "13. What's the difference between tuples and lists?\n",
    "\n",
    "Lists are mutable sequence of elements which are held within 2 square brackets. Whereas Tuple is an\n",
    "immutable sequence of elements held within 2 curve brackets. \n",
    "\n",
    "14. How do you type a tuple value that only contains the integer 42?\n",
    "\n",
    "t=(42,)\n",
    "\n",
    "If we don't use that comma after the single element Python will consider it as an integer. \n",
    "\n",
    "15. How do you get a list value's tuple form? How do you get a tuple value's list form?\n",
    "\n",
    "Let's consider a list l=[1,2,3,4,5,6] and a tuple t=(\"Hello\",\"World\")\n",
    "\n",
    "tuple(l)=(1,2,3,4,5,6) and list(t) = [\"Hello\",\"World\"]\n",
    "\n",
    "\n",
    "16. Variables that \"contain\" list values are not necessarily lists themselves. Instead, what do they contain?\n",
    "\n",
    "I am not sure what you mean by this question. Anyway, I guess you are asking about the reference \n",
    "or pointers to the memory locations. \n",
    "\n",
    "l=[1,2,3,4]\n",
    "\n",
    "Here l is a variable which acts as a pointer or a reference to the memory locations. \n",
    "\n",
    "17. How do you distinguish between copy.copy() and copy.deepcopy()?\n",
    "\n",
    "Copy method will do a shallow copy of the original sequence whereas deepcopy will do a replica kind of deep copying to make a duplicate sequence which looks excatly like the original one. Both methods will copy even the nested ones, but upon changing an element within the nested part of the sequence, the copy method will reflect those changes whereas deepcopy will still show the original unchanged sequence. \n",
    "\n",
    "\"\"\""
   ]
  },
  {
   "cell_type": "code",
   "execution_count": 37,
   "id": "d20e2fb8",
   "metadata": {},
   "outputs": [
    {
     "name": "stdout",
     "output_type": "stream",
     "text": [
      "['adf', 'srgs', ['Hello', 'World']]\n"
     ]
    }
   ],
   "source": [
    "import copy\n",
    "a=[\"adf\",\"srgs\",[\"Hello\",\"World\"]]\n",
    "b=copy.deepcopy(a)\n",
    "a[2][0]=\"gfh\"\n",
    "print(b)"
   ]
  },
  {
   "cell_type": "code",
   "execution_count": 38,
   "id": "07b86d95",
   "metadata": {},
   "outputs": [
    {
     "data": {
      "text/plain": [
       "['adf', 'srgs', ['Hello', 'World']]"
      ]
     },
     "execution_count": 38,
     "metadata": {},
     "output_type": "execute_result"
    }
   ],
   "source": [
    "b"
   ]
  },
  {
   "cell_type": "code",
   "execution_count": null,
   "id": "76e11422",
   "metadata": {},
   "outputs": [],
   "source": []
  }
 ],
 "metadata": {
  "kernelspec": {
   "display_name": "Python 3 (ipykernel)",
   "language": "python",
   "name": "python3"
  },
  "language_info": {
   "codemirror_mode": {
    "name": "ipython",
    "version": 3
   },
   "file_extension": ".py",
   "mimetype": "text/x-python",
   "name": "python",
   "nbconvert_exporter": "python",
   "pygments_lexer": "ipython3",
   "version": "3.11.5"
  }
 },
 "nbformat": 4,
 "nbformat_minor": 5
}
