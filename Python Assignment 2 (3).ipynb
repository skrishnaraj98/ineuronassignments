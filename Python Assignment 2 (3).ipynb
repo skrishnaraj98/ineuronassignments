{
 "cells": [
  {
   "cell_type": "raw",
   "id": "6d0bd01f",
   "metadata": {},
   "source": [
    "1. Write a Python program to print \"Hello Python\"?\n",
    "\n",
    "a=input()\n",
    "print(input())\n",
    "\n",
    "2. Write a Python program to do arithmetical operations addition and division.?\n",
    "\n",
    "b=int(input())\n",
    "c=int(input())\n",
    "\n",
    "addition=b+c\n",
    "division=b/c\n",
    "\n",
    "print(\"Sum of these two numbers= \",addition)\n",
    "print(\"Division of these two numbers= \",division)\n",
    "\n",
    "3. Write a Python program to find the area of a triangle?\n",
    "\n",
    "base=int(input())\n",
    "height=int(input())\n",
    "\n",
    "area=0.5*base*height\n",
    "\n",
    "print(\"Area of the triangle= \",area)\n",
    "\n",
    "4. Write a Python program to swap two variables?\n",
    "\n",
    "x=int(input())\n",
    "y=int(input())\n",
    "\n",
    "x,y=y,x\n",
    "\n",
    "print(\"x value after swap becomes: \",x)\n",
    "print(\"y value after swap becomes: \",y)\n",
    "\n",
    "\n",
    "5. Write a Python program to generate a random number?\n",
    "\n",
    "import random\n",
    "random_number = random.randint(1,20)\n",
    "print(random_number)"
   ]
  },
  {
   "cell_type": "code",
   "execution_count": null,
   "id": "0e14d7a0",
   "metadata": {},
   "outputs": [],
   "source": []
  },
  {
   "cell_type": "code",
   "execution_count": null,
   "id": "fd25ea9a",
   "metadata": {},
   "outputs": [],
   "source": []
  }
 ],
 "metadata": {
  "kernelspec": {
   "display_name": "Python 3 (ipykernel)",
   "language": "python",
   "name": "python3"
  },
  "language_info": {
   "codemirror_mode": {
    "name": "ipython",
    "version": 3
   },
   "file_extension": ".py",
   "mimetype": "text/x-python",
   "name": "python",
   "nbconvert_exporter": "python",
   "pygments_lexer": "ipython3",
   "version": "3.11.5"
  }
 },
 "nbformat": 4,
 "nbformat_minor": 5
}
