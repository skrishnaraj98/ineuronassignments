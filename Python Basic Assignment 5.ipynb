{
 "cells": [
  {
   "cell_type": "code",
   "execution_count": 32,
   "id": "2d507b81",
   "metadata": {},
   "outputs": [
    {
     "ename": "SyntaxError",
     "evalue": "invalid decimal literal (2478383255.py, line 25)",
     "output_type": "error",
     "traceback": [
      "\u001b[1;36m  Cell \u001b[1;32mIn[32], line 25\u001b[1;36m\u001b[0m\n\u001b[1;33m    directly check whether \"cat\" is a key within the dictionary and the 2nd dictionary expression will see whether \"cat\" is within\u001b[0m\n\u001b[1;37m                                                                        ^\u001b[0m\n\u001b[1;31mSyntaxError\u001b[0m\u001b[1;31m:\u001b[0m invalid decimal literal\n"
     ]
    }
   ],
   "source": [
    "1. What does an empty dictionary's code look like?\n",
    "\n",
    "Empty dictionary looks like this {}. For example: \n",
    "    empty_dict = {}\n",
    "\n",
    "2. What is the value of a dictionary value with the key 'foo' and the value 42?\n",
    "\n",
    "new_dict={\"foo\":42}\n",
    "new_dict.values = dict_values([42])\n",
    "\n",
    "3. What is the most significant distinction between a dictionary and a list?\n",
    "\n",
    "Dictionaries and lists are both mutable ordered sequences. But the major difference between them is how they store values \n",
    "within them. Dictionaries store elements in a key-and-value pair while lists directly stores them. Dictionaries use curly \n",
    "brackets while lists use square brackets. \n",
    "\n",
    "4. What happens if you try to access spam['foo'] if spam is {'bar': 100}?\n",
    "\n",
    "It will return a KeyError. Since there is no key with the name \"foo\" within the dictionary named spam. \n",
    "\n",
    "5. If a dictionary is stored in spam, what is the difference between the expressions 'cat' in spam and 'cat' in spam.keys()?\n",
    "\n",
    "Both the expressions is a way to check whether \"cat\" is a key within the dictionary named \"spam\". In this case both will return\n",
    "a False as the output as the \"spam\" dictionary do not have \"cat\" as a key. Coming to the difference, the first expression will\n",
    "directly check whether \"cat\" is a key within the dictionary and the 2nd dictionary expression will see whether \"cat\" is within\n",
    "a list containing all the keys of the \"spam\" dictionary. Effectively both expressions are checking the same thing in their \n",
    "different ways. \n",
    "\n",
    "6. If a dictionary is stored in spam, what is the difference between the expressions 'cat' in spam and 'cat' in spam.values()?\n",
    "\n",
    "*************QUESTION REPEATED***************\n",
    "\n",
    "7. What is a shortcut for the following code?\n",
    "if 'color' not in spam:\n",
    "spam['color'] = 'black'\n",
    "\n",
    "\n",
    "Instead of adding like this we can directly write: \n",
    "    spam[\"color\"]=\"black\"\n",
    "    \n",
    "And like this automatically spam dictionary will add a key and value pair within it. \n",
    "\n",
    "8. How do you \"pretty print\" dictionary values using which module and function?\n",
    "\n",
    "import pprint\n",
    "\n",
    "my_dict = {'key1': 'value1', 'key2': 'value2', 'key3': 'value3'}\n",
    "\n",
    "# Pretty print the dictionary\n",
    "pprint.pprint(my_dict)\n",
    "\n",
    "\n",
    "The output will look like this: \n",
    "    \n",
    "    {'key1': 'value1', 'key2': 'value2', 'key3': 'value3'}\n",
    "\n",
    "Although, it will look the same when we print a dictionary to the console without using pretty print module but it will \n",
    "make the difference while using complex dictionary with large datasets. "
   ]
  },
  {
   "cell_type": "code",
   "execution_count": null,
   "id": "f33d7f6a",
   "metadata": {},
   "outputs": [],
   "source": []
  }
 ],
 "metadata": {
  "kernelspec": {
   "display_name": "Python 3 (ipykernel)",
   "language": "python",
   "name": "python3"
  },
  "language_info": {
   "codemirror_mode": {
    "name": "ipython",
    "version": 3
   },
   "file_extension": ".py",
   "mimetype": "text/x-python",
   "name": "python",
   "nbconvert_exporter": "python",
   "pygments_lexer": "ipython3",
   "version": "3.11.5"
  }
 },
 "nbformat": 4,
 "nbformat_minor": 5
}
